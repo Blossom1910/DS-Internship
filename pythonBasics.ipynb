{
 "cells": [
  {
   "cell_type": "code",
   "execution_count": 1,
   "id": "06f0938d-2c0e-4164-89a7-8c608e228779",
   "metadata": {},
   "outputs": [
    {
     "name": "stdout",
     "output_type": "stream",
     "text": [
      "8\n"
     ]
    }
   ],
   "source": [
    "addition = 3 + 5\n",
    "print (addition)"
   ]
  },
  {
   "cell_type": "code",
   "execution_count": 2,
   "id": "e2cc6984-80ee-4fc7-8eb3-a2e03c4a28a2",
   "metadata": {},
   "outputs": [],
   "source": [
    "randomList = [1, 2, 3, 4, 5, 6]"
   ]
  },
  {
   "cell_type": "code",
   "execution_count": 3,
   "id": "09265b07-5eae-47bc-ae53-a96679b624c5",
   "metadata": {},
   "outputs": [
    {
     "name": "stdout",
     "output_type": "stream",
     "text": [
      "The final answer is : 15\n"
     ]
    }
   ],
   "source": [
    "result = 1\n",
    "\n",
    "for _ in randomList:\n",
    "    if _ % 2 != 0:\n",
    "        result *= _\n",
    "\n",
    "print (f'The final answer is : {result}')"
   ]
  },
  {
   "cell_type": "code",
   "execution_count": 4,
   "id": "1eaacb44-16df-440b-af8f-ea8550d75177",
   "metadata": {},
   "outputs": [
    {
     "data": {
      "text/plain": [
       "[1, 2, 3, 4, 5, 6]"
      ]
     },
     "execution_count": 4,
     "metadata": {},
     "output_type": "execute_result"
    }
   ],
   "source": [
    "randomList"
   ]
  },
  {
   "cell_type": "code",
   "execution_count": 5,
   "id": "1a53b660-c0a1-42bf-a860-ed397df2ebbd",
   "metadata": {},
   "outputs": [],
   "source": [
    "randomList.append (7)"
   ]
  },
  {
   "cell_type": "code",
   "execution_count": 6,
   "id": "c7e35e03-fcaf-4ce0-bbd1-36f3f79d2b3e",
   "metadata": {},
   "outputs": [
    {
     "data": {
      "text/plain": [
       "[1, 2, 3, 4, 5, 6, 7]"
      ]
     },
     "execution_count": 6,
     "metadata": {},
     "output_type": "execute_result"
    }
   ],
   "source": [
    "randomList"
   ]
  },
  {
   "cell_type": "code",
   "execution_count": null,
   "id": "33729e6a-3ca4-41fc-a6aa-4c67fadb6b44",
   "metadata": {},
   "outputs": [],
   "source": []
  }
 ],
 "metadata": {
  "kernelspec": {
   "display_name": "Python 3 (ipykernel)",
   "language": "python",
   "name": "python3"
  },
  "language_info": {
   "codemirror_mode": {
    "name": "ipython",
    "version": 3
   },
   "file_extension": ".py",
   "mimetype": "text/x-python",
   "name": "python",
   "nbconvert_exporter": "python",
   "pygments_lexer": "ipython3",
   "version": "3.13.5"
  }
 },
 "nbformat": 4,
 "nbformat_minor": 5
}
